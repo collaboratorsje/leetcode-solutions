{
 "cells": [
  {
   "cell_type": "markdown",
   "metadata": {},
   "source": [
    "Solutions to the leetcode 75."
   ]
  },
  {
   "cell_type": "markdown",
   "metadata": {},
   "source": [
    "1. Merge Strings Alternately "
   ]
  },
  {
   "cell_type": "code",
   "execution_count": 2,
   "metadata": {},
   "outputs": [],
   "source": [
    "from itertools import zip_longest\n",
    "class Solution:\n",
    "    def mergeAlternately(self, word1: str, word2: str) -> str:\n",
    "        myList = []\n",
    "        for word1Char, word2Char in zip_longest(word1, word2):\n",
    "            if(word1Char != None):\n",
    "                myList.append(word1Char)\n",
    "            if(word2Char != None):\n",
    "                myList.append(word2Char)\n",
    "        return ''.join(myList)"
   ]
  },
  {
   "cell_type": "markdown",
   "metadata": {},
   "source": [
    "2. Greatest Common Divisor of Strings"
   ]
  },
  {
   "cell_type": "code",
   "execution_count": null,
   "metadata": {},
   "outputs": [],
   "source": [
    "from math import gcd\n",
    "class Solution:\n",
    "    def gcdOfStrings(self, str1: str, str2: str) -> str:\n",
    "        if str1+str2 != str2+str1:\n",
    "            return \"\"\n",
    "        max_length = gcd(len(str1), len(str2))\n",
    "        return str1[:max_length]"
   ]
  },
  {
   "cell_type": "markdown",
   "metadata": {},
   "source": [
    "2215. Find the Difference of Two Arrays"
   ]
  },
  {
   "cell_type": "code",
   "execution_count": 3,
   "metadata": {},
   "outputs": [],
   "source": [
    "from typing import List\n",
    "\n",
    "class Solution:\n",
    "    def findDifference(self, nums1: List[int], nums2: List[int]) -> List[List[int]]:\n",
    "        set_Answer1 = set(nums1)\n",
    "        set_Answer2 = set(nums2)\n",
    "\n",
    "        setAnswer1 = list(set_Answer1 - set_Answer2)\n",
    "        setAnswer2 = list(set_Answer2 - set_Answer1)\n",
    "        \n",
    "        answer = []\n",
    "        answer.append(setAnswer1)\n",
    "        answer.append(setAnswer2)\n",
    "        return answer"
   ]
  },
  {
   "cell_type": "markdown",
   "metadata": {},
   "source": [
    "1207. Unique Number of Occurrences"
   ]
  },
  {
   "cell_type": "code",
   "execution_count": null,
   "metadata": {},
   "outputs": [],
   "source": [
    "class Solution:\n",
    "    def uniqueOccurrences(self, arr: List[int]) -> bool:\n",
    "        myDict = {}\n",
    "        for i in arr:\n",
    "            if i in myDict:\n",
    "                myDict[i] += 1\n",
    "            else:\n",
    "                myDict[i] = 1\n",
    "        return len(myDict.values()) == len(set(myDict.values()))\n",
    "        "
   ]
  },
  {
   "cell_type": "markdown",
   "metadata": {},
   "source": [
    "933. Number of Recent Calls"
   ]
  },
  {
   "cell_type": "code",
   "execution_count": null,
   "metadata": {},
   "outputs": [],
   "source": [
    "from collections import deque\n",
    "\n",
    "class RecentCounter:\n",
    "\n",
    "    def __init__(self):\n",
    "        self.queue = deque()\n",
    "\n",
    "    def ping(self, t: int) -> int:\n",
    "        self.queue.append(t)\n",
    "\n",
    "        while self.queue and self.queue[0] < t - 3000:\n",
    "            self.queue.popleft()\n",
    "        \n",
    "        return len(self.queue)\n",
    "\n",
    "\n",
    "# Your RecentCounter object will be instantiated and called as such:\n",
    "# obj = RecentCounter()\n",
    "# param_1 = obj.ping(t)"
   ]
  },
  {
   "cell_type": "markdown",
   "metadata": {},
   "source": [
    "206. Reverse Linked List"
   ]
  },
  {
   "cell_type": "code",
   "execution_count": null,
   "metadata": {},
   "outputs": [],
   "source": [
    "from collections import Optional\n",
    "# Definition for singly-linked list.\n",
    "class ListNode:\n",
    "    def __init__(self, val=0, next=None):\n",
    "        self.val = val\n",
    "        self.next = next\n",
    "class Solution:\n",
    "    def reverseList(sedelf, head: Optional[ListNode]) -> Optional[ListNode]:\n",
    "        prev = None\n",
    "        current = head\n",
    "        while current:\n",
    "            next_node = current.next  # Store the next node\n",
    "            current.next = prev  # Reverse the link\n",
    "            prev = current  # Move prev to the current node\n",
    "            current = next_node  # Move to the next node\n",
    "        return prev  # prev will be the new head of the reversed list"
   ]
  },
  {
   "cell_type": "markdown",
   "metadata": {},
   "source": [
    "104. Maximum Depth of a Binary Tree"
   ]
  },
  {
   "cell_type": "code",
   "execution_count": null,
   "metadata": {},
   "outputs": [],
   "source": [
    "from collections import Optional\n",
    "# Definition for a binary tree node.\n",
    "class TreeNode:\n",
    "    def __init__(self, val=0, left=None, right=None):\n",
    "        self.val = val\n",
    "        self.left = left\n",
    "        self.right = right\n",
    "class Solution:\n",
    "    def maxDepth(self, root: Optional[TreeNode]) -> int:\n",
    "        if root is None:\n",
    "            return 0\n",
    "        else:\n",
    "            max_left = self.maxDepth(root.left)\n",
    "            max_right = self.maxDepth(root.right)\n",
    "\n",
    "            return max(max_left, max_right) + 1"
   ]
  },
  {
   "cell_type": "markdown",
   "metadata": {},
   "source": [
    "872. Leaf-Similar Trees"
   ]
  },
  {
   "cell_type": "code",
   "execution_count": null,
   "metadata": {},
   "outputs": [],
   "source": [
    "from collections import Optional\n",
    "# Definition for a binary tree node.\n",
    "class TreeNode:\n",
    "    def __init__(self, val=0, left=None, right=None):\n",
    "        self.val = val\n",
    "        self.left = left\n",
    "        self.right = right\n",
    "class solution:\n",
    "    def leafSimilar(self, root1: Optional[TreeNode], root2: Optional[TreeNode]) -> bool:\n",
    "        def dfs(node, leaves):\n",
    "            if node:\n",
    "                if not node.left and not node.right:  # It's a leaf node\n",
    "                    leaves.append(node.val)\n",
    "                dfs(node.left, leaves)\n",
    "                dfs(node.right, leaves)\n",
    "\n",
    "        leaves1, leaves2 = [], []\n",
    "        dfs(root1, leaves1)\n",
    "        dfs(root2, leaves2)\n",
    "        return leaves1 == leaves2"
   ]
  },
  {
   "cell_type": "markdown",
   "metadata": {},
   "source": [
    "700. Search in a Binary Search Tree"
   ]
  },
  {
   "cell_type": "code",
   "execution_count": null,
   "metadata": {},
   "outputs": [],
   "source": [
    "from collections import Optional\n",
    "\n",
    "# Definition for a binary tree node.\n",
    "class TreeNode:\n",
    "    def __init__(self, val=0, left=None, right=None):\n",
    "        self.val = val\n",
    "        self.left = left\n",
    "        self.right = right\n",
    "\n",
    "class Solution:\n",
    "    def searchBST(self, root: Optional[TreeNode], val: int) -> Optional[TreeNode]:\n",
    "        if root is None or (root.val == val):\n",
    "            return root\n",
    "        if (root.val < val):\n",
    "            return self.searchBST(root.right, val)\n",
    "        else:\n",
    "            return self.searchBST(root.left, val)"
   ]
  },
  {
   "cell_type": "markdown",
   "metadata": {},
   "source": [
    "1161. Maximum Level Sum of a Binary Tree"
   ]
  },
  {
   "cell_type": "code",
   "execution_count": null,
   "metadata": {},
   "outputs": [],
   "source": [
    "# Definition for a binary tree node.\n",
    "class TreeNode:\n",
    "    def __init__(self, val=0, left=None, right=None):\n",
    "        self.val = val\n",
    "        self.left = left\n",
    "        self.right = right\n",
    "class Solution:\n",
    "    def maxLevelSum(self, root: Optional[TreeNode]) -> int:\n",
    "        myQueue = collections.deque()\n",
    "        myQueue.append(root)\n",
    "        maxSum = float(-inf)\n",
    "        level = 1\n",
    "        result = 1\n",
    "        while myQueue:\n",
    "            size = len(myQueue)\n",
    "            levelSum = 0\n",
    "            while size > 0:\n",
    "                front = myQueue.popleft()\n",
    "                levelSum += front.val\n",
    "                if not (front.left is None):\n",
    "                    myQueue.append(front.left)\n",
    "                if not (front.right is None):\n",
    "                    myQueue.append(front.right)\n",
    "                size -= 1\n",
    "            if levelSum > maxSum:\n",
    "                maxSum = levelSum\n",
    "                result = level\n",
    "            level += 1\n",
    "        return result"
   ]
  },
  {
   "cell_type": "markdown",
   "metadata": {},
   "source": [
    "102. Binary Tree Level Order Traversal"
   ]
  },
  {
   "cell_type": "code",
   "execution_count": null,
   "metadata": {},
   "outputs": [],
   "source": [
    "# Definition for a binary tree node.\n",
    "# class TreeNode:\n",
    "#     def __init__(self, val=0, left=None, right=None):\n",
    "#         self.val = val\n",
    "#         self.left = left\n",
    "#         self.right = right\n",
    "class Solution:\n",
    "    def levelOrder(self, root: Optional[TreeNode]) -> List[List[int]]:\n",
    "        if root is None:\n",
    "            return []\n",
    "        myQueue = collections.deque()\n",
    "        myQueue.append(root)\n",
    "        result = []\n",
    "        while myQueue:\n",
    "            size = len(myQueue)\n",
    "            levelList = []\n",
    "            while size > 0:\n",
    "                front = myQueue.popleft()\n",
    "                levelList.append(front.val)\n",
    "                if front.left is not None:\n",
    "                    myQueue.append(front.left)\n",
    "                if front.right is not None:\n",
    "                    myQueue.append(front.right)\n",
    "                size -= 1\n",
    "            result.append(levelList)\n",
    "        return result"
   ]
  }
 ],
 "metadata": {
  "kernelspec": {
   "display_name": "Python 3",
   "language": "python",
   "name": "python3"
  },
  "language_info": {
   "codemirror_mode": {
    "name": "ipython",
    "version": 3
   },
   "file_extension": ".py",
   "mimetype": "text/x-python",
   "name": "python",
   "nbconvert_exporter": "python",
   "pygments_lexer": "ipython3",
   "version": "3.11.6"
  }
 },
 "nbformat": 4,
 "nbformat_minor": 2
}
