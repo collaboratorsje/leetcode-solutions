{
 "cells": [
  {
   "cell_type": "markdown",
   "metadata": {},
   "source": [
    "Solutions to the leetcode 75."
   ]
  },
  {
   "cell_type": "markdown",
   "metadata": {},
   "source": [
    "1. Merge Strings Alternately "
   ]
  },
  {
   "cell_type": "code",
   "execution_count": 2,
   "metadata": {},
   "outputs": [],
   "source": [
    "from itertools import zip_longest\n",
    "class Solution:\n",
    "    def mergeAlternately(self, word1: str, word2: str) -> str:\n",
    "        myList = []\n",
    "        for word1Char, word2Char in zip_longest(word1, word2):\n",
    "            if(word1Char != None):\n",
    "                myList.append(word1Char)\n",
    "            if(word2Char != None):\n",
    "                myList.append(word2Char)\n",
    "        return ''.join(myList)"
   ]
  },
  {
   "cell_type": "markdown",
   "metadata": {},
   "source": [
    "2. Greatest Common Divisor of Strings"
   ]
  },
  {
   "cell_type": "code",
   "execution_count": null,
   "metadata": {},
   "outputs": [],
   "source": [
    "from math import gcd\n",
    "class Solution:\n",
    "    def gcdOfStrings(self, str1: str, str2: str) -> str:\n",
    "        if str1+str2 != str2+str1:\n",
    "            return \"\"\n",
    "        max_length = gcd(len(str1), len(str2))\n",
    "        return str1[:max_length]"
   ]
  },
  {
   "cell_type": "markdown",
   "metadata": {},
   "source": [
    "2215. Find the Difference of Two Arrays"
   ]
  },
  {
   "cell_type": "code",
   "execution_count": 3,
   "metadata": {},
   "outputs": [],
   "source": [
    "from typing import List\n",
    "\n",
    "class Solution:\n",
    "    def findDifference(self, nums1: List[int], nums2: List[int]) -> List[List[int]]:\n",
    "        set_Answer1 = set(nums1)\n",
    "        set_Answer2 = set(nums2)\n",
    "\n",
    "        setAnswer1 = list(set_Answer1 - set_Answer2)\n",
    "        setAnswer2 = list(set_Answer2 - set_Answer1)\n",
    "        \n",
    "        answer = []\n",
    "        answer.append(setAnswer1)\n",
    "        answer.append(setAnswer2)\n",
    "        return answer"
   ]
  },
  {
   "cell_type": "markdown",
   "metadata": {},
   "source": [
    "1207. Unique Number of Occurrences"
   ]
  },
  {
   "cell_type": "code",
   "execution_count": null,
   "metadata": {},
   "outputs": [],
   "source": [
    "class Solution:\n",
    "    def uniqueOccurrences(self, arr: List[int]) -> bool:\n",
    "        myDict = {}\n",
    "        for i in arr:\n",
    "            if i in myDict:\n",
    "                myDict[i] += 1\n",
    "            else:\n",
    "                myDict[i] = 1\n",
    "        return len(myDict.values()) == len(set(myDict.values()))\n",
    "        "
   ]
  },
  {
   "cell_type": "markdown",
   "metadata": {},
   "source": [
    "933. Number of Recent Calls"
   ]
  },
  {
   "cell_type": "code",
   "execution_count": null,
   "metadata": {},
   "outputs": [],
   "source": [
    "from collections import deque\n",
    "\n",
    "class RecentCounter:\n",
    "\n",
    "    def __init__(self):\n",
    "        self.queue = deque()\n",
    "\n",
    "    def ping(self, t: int) -> int:\n",
    "        self.queue.append(t)\n",
    "\n",
    "        while self.queue and self.queue[0] < t - 3000:\n",
    "            self.queue.popleft()\n",
    "        \n",
    "        return len(self.queue)\n",
    "\n",
    "\n",
    "# Your RecentCounter object will be instantiated and called as such:\n",
    "# obj = RecentCounter()\n",
    "# param_1 = obj.ping(t)"
   ]
  }
 ],
 "metadata": {
  "kernelspec": {
   "display_name": "Python 3",
   "language": "python",
   "name": "python3"
  },
  "language_info": {
   "codemirror_mode": {
    "name": "ipython",
    "version": 3
   },
   "file_extension": ".py",
   "mimetype": "text/x-python",
   "name": "python",
   "nbconvert_exporter": "python",
   "pygments_lexer": "ipython3",
   "version": "3.11.6"
  }
 },
 "nbformat": 4,
 "nbformat_minor": 2
}
